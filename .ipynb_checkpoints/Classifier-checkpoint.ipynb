{
 "cells": [
  {
   "cell_type": "markdown",
   "metadata": {},
   "source": [
    "![purple-divider](https://user-images.githubusercontent.com/7065401/52071927-c1cd7100-2562-11e9-908a-dde91ba14e59.png)\n",
    "# Classification of documents in official daily juridical processes of state of São Paulo: \n",
    "### Example of a official daily of 2 jun. 2020\n",
    "\n",
    "<p align=\"center\">\n",
    "    <img src=\"assets/officialDailySP.png\" width=900 height=700> \n",
    "\n",
    "    \n",
    "    In this project we want to classify the type of a content of a document present in a official daily\n",
    "</p>\n",
    "\n",
    "<p>\n",
    "    In simple words we want to classify the jucicial processes extract from official daily of period in 2015 to 2017, in sentences (processes which the judge finish the process) and documents which are not sentences.\n",
    "</p>"
   ]
  },
  {
   "cell_type": "markdown",
   "metadata": {},
   "source": [
    "![green-divider](https://user-images.githubusercontent.com/7065401/52071924-c003ad80-2562-11e9-8297-1c6595f8a7ff.png)\n",
    "### 1. Lendo nossos dados e importando bibliotecas:\n",
    "<!-- <blockquote>\n",
    "csv, xlsx and json data formats\n",
    "</blockquote> -->"
   ]
  },
  {
   "cell_type": "code",
   "execution_count": 3,
   "metadata": {},
   "outputs": [],
   "source": [
    "import pandas as pd\n",
    "import numpy as np\n",
    "import matplotlib.pyplot as plt\n",
    "import re\n",
    "\n",
    "# sp_data is a pandas dataframe of our data\n",
    "sp_data = pd.read_json('data/Amostra100KFiltrada.json', lines=True)"
   ]
  },
  {
   "cell_type": "code",
   "execution_count": null,
   "metadata": {},
   "outputs": [],
   "source": []
  }
 ],
 "metadata": {
  "kernelspec": {
   "display_name": "Python 3.7.6 64-bit ('base': conda)",
   "language": "python",
   "name": "python37664bitbasecondab9c9720744174707955f3c1b77c6c928"
  },
  "language_info": {
   "codemirror_mode": {
    "name": "ipython",
    "version": 3
   },
   "file_extension": ".py",
   "mimetype": "text/x-python",
   "name": "python",
   "nbconvert_exporter": "python",
   "pygments_lexer": "ipython3",
   "version": "3.7.6"
  }
 },
 "nbformat": 4,
 "nbformat_minor": 4
}
